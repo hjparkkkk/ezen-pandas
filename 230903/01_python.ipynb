{
 "cells": [
  {
   "cell_type": "code",
   "execution_count": null,
   "metadata": {},
   "outputs": [],
   "source": [
    "# 주석\n",
    "# 실행이 되지 않는 부분\n",
    "# 코드에 대한 설명을 쓰는 부분\n",
    "# ctrl + / 누르면 주석(#)이 자동으로 뜸\n",
    "\n",
    "# 변수 생성\n",
    "a = 10\n",
    "b = \"test\"\n",
    "# 변수 출력\n",
    "print(a)\n",
    "print(b)"
   ]
  },
  {
   "cell_type": "code",
   "execution_count": null,
   "metadata": {},
   "outputs": [],
   "source": [
    "# 변수의 타입을 확인\n",
    "print(type(a))\n",
    "print(type(b))"
   ]
  },
  {
   "cell_type": "code",
   "execution_count": null,
   "metadata": {},
   "outputs": [],
   "source": [
    "#bool형태의 데이터\n",
    "a = True\n",
    "print(a)\n",
    "print(type(a))"
   ]
  },
  {
   "cell_type": "code",
   "execution_count": null,
   "metadata": {},
   "outputs": [],
   "source": [
    "# 산술연산자\n",
    "a = 7\n",
    "b = 3\n",
    "print(a+b,a-b,a*b,a/b,a//b,a%b,a**b)"
   ]
  },
  {
   "cell_type": "code",
   "execution_count": null,
   "metadata": {},
   "outputs": [],
   "source": [
    "# 산술연산자의 우선순위\n",
    "a = 7\n",
    "b = 3\n",
    "c = 2\n",
    "\n",
    "print(a+b/c)\n",
    "print((a+b)/c)"
   ]
  },
  {
   "cell_type": "code",
   "execution_count": null,
   "metadata": {},
   "outputs": [],
   "source": [
    "# 대입연산자\n",
    "a = 7\n",
    "print(a+3) # 10\n",
    "print(a)   # 7\n",
    "a += 3     # a = a + 3\n",
    "print(a)   # 10"
   ]
  },
  {
   "cell_type": "markdown",
   "metadata": {},
   "source": [
    "### 조건문\n",
    "- 조건식을 기준으로 참인 경우 실행할 코드와 거짓인 경우 실행할 코드를 작성"
   ]
  },
  {
   "cell_type": "code",
   "execution_count": null,
   "metadata": {},
   "outputs": [],
   "source": [
    "# 조건문 (if문)\n",
    "x = 15\n",
    "\n",
    "if x < 10:\n",
    "  print('x는 10보다 작다')"
   ]
  },
  {
   "cell_type": "code",
   "execution_count": null,
   "metadata": {},
   "outputs": [],
   "source": [
    "# if ~ else 문\n",
    "if x < 10:\n",
    "  print('x는 10보다 작다')\n",
    "else:\n",
    "  print(\"x는 10보다 크거나 같다\")"
   ]
  },
  {
   "cell_type": "code",
   "execution_count": null,
   "metadata": {},
   "outputs": [],
   "source": [
    "# 조건식이 여러개인 경우\n",
    "# input()함수는 유저가 입력할 수 있는 창을 새로 만들어서 입력값을 받아오는 함수 (데이터의 형태가 문자형)\n",
    "# int()함수는 데이터를 정수형 데이터로 변환\n",
    "score = int(input('점수를 입력하시오 :'))\n",
    "\n",
    "if score >= 90:\n",
    "  print('A')\n",
    "elif score >= 80:\n",
    "  print('B')\n",
    "elif score >= 70:\n",
    "  print('C')\n",
    "elif score >= 60:\n",
    "  print('D')\n",
    "else :\n",
    "  print('F')\n",
    "\n",
    "print('프로그램 종료')"
   ]
  },
  {
   "cell_type": "markdown",
   "metadata": {},
   "source": [
    "### 반복문\n",
    "- for문\n",
    "   - 자료형 데이터의 개수만큼 반복 실행\n",
    "- whilfe문\n",
    "   - 해당하는 조건식이 거짓일때까지 반복 실행"
   ]
  },
  {
   "cell_type": "code",
   "execution_count": null,
   "metadata": {},
   "outputs": [],
   "source": [
    "# range(시작값, 종료값, 증가값)\n",
    "print(range(0,5,1))\n",
    "print(list(range(0, 5, 1)))"
   ]
  },
  {
   "cell_type": "code",
   "execution_count": null,
   "metadata": {},
   "outputs": [],
   "source": [
    "for i in range(0, 5, 1):\n",
    "  print(i)"
   ]
  },
  {
   "cell_type": "code",
   "execution_count": null,
   "metadata": {},
   "outputs": [],
   "source": [
    "for i in range(5):\n",
    "  print(i)"
   ]
  },
  {
   "cell_type": "code",
   "execution_count": null,
   "metadata": {},
   "outputs": [],
   "source": [
    "list_a = [1,5,9,11]\n",
    "\n",
    "for i in list_a:\n",
    "  print(i)"
   ]
  },
  {
   "cell_type": "code",
   "execution_count": null,
   "metadata": {},
   "outputs": [],
   "source": [
    "# 리스트의 길이를 출력하는 함수 : len()\n",
    "\n",
    "for i in range(0, len(list_a), 1):\n",
    "  print(list_a[i])"
   ]
  },
  {
   "cell_type": "code",
   "execution_count": null,
   "metadata": {},
   "outputs": [],
   "source": [
    "# 1부터 10까지의 합계를 반복문을 이용하여 계산\n",
    "# 합계라는 변수를 초기값을 대입하여 변수 생성\n",
    "result = 0\n",
    "\n",
    "result += 1\n",
    "result += 2\n",
    "result += 3\n",
    "result += 4\n",
    "\n",
    "print(result)"
   ]
  },
  {
   "cell_type": "code",
   "execution_count": null,
   "metadata": {},
   "outputs": [],
   "source": [
    "result = 0\n",
    "\n",
    "for i in range(1, 11, 1):\n",
    "    # i는 1, 2, 3, 4, 5, 6, 7, 8, 9, 10\n",
    "    result += i\n",
    "    # result = result + i\n",
    "\n",
    "print(result)"
   ]
  },
  {
   "cell_type": "code",
   "execution_count": null,
   "metadata": {},
   "outputs": [],
   "source": [
    "# 다중 for문\n",
    "for i in range(0, 5, 1):\n",
    "  for j in range(0, 5, 1):\n",
    "    print(i, j)"
   ]
  },
  {
   "cell_type": "code",
   "execution_count": null,
   "metadata": {},
   "outputs": [],
   "source": [
    "# 구구단 생성\n",
    "# 2단부터 9단까지\n",
    "for i in range(2, 10, 1):\n",
    "   # 1부터 9까지\n",
    "   print(i,'단 시작')\n",
    "   for j in range (1, 10, 1):\n",
    "      print(i, 'x', j, '=', i*j)\n",
    "   print(i, '단 종료')"
   ]
  },
  {
   "cell_type": "markdown",
   "metadata": {},
   "source": [
    "### 반복문 예제문제\n",
    "1. 1부터 50까지의 숫자 중 3의 배수의 합계를 구하시오\n",
    "   - 합계라는 초기 값을 지정(0)\n",
    "   - for문을 이용하여 1부터 50까지 반복을 하는 반복문 생성\n",
    "   - 1부터 50까지의 합계\n",
    "   - 조건식을 이용하여 3의 배수인 경우에만 합계에 더해질 수 있도록 조건문 생성\n",
    "\n",
    "2. 두개의 주사위의 합이 5 이상인 경우를 출력하시오\n",
    "  - 첫번째 반복문에서 첫번째 주사위의 경우의 수를 반복문으로 생성\n",
    "  - 두번째 반복문에서는 두번째 주사위의 경우의 수를 반복문으로 생성\n",
    "  - 2 개의 주사위합이 5보다 크다는 조건식\n",
    "  조건식이 참인 경우의 두 주사위의 숫자를 출력"
   ]
  },
  {
   "cell_type": "code",
   "execution_count": null,
   "metadata": {},
   "outputs": [],
   "source": [
    "# 합계라는 초기 변수를 생성\n",
    "result = 0\n",
    "\n",
    "# 1부터 50까지 반복을 하는 반복문을 생성\n",
    "for i in range(1, 51, 1):\n",
    "  # 조건식은 3의 배수인 경우 (3으로 나눴을때 나머지가 0)\n",
    "  if i % 3 ==0 :\n",
    "\n",
    "      # result에 i를 누적합\n",
    "    result += i\n",
    "  # result = result + i\n",
    "\n",
    "print(result)"
   ]
  },
  {
   "cell_type": "code",
   "execution_count": 87,
   "metadata": {},
   "outputs": [
    {
     "name": "stdout",
     "output_type": "stream",
     "text": [
      "408\n"
     ]
    }
   ],
   "source": [
    "result = 0\n",
    "for i in range(0, 51, 3):\n",
    "  result += i\n",
    "\n",
    "print(result)"
   ]
  },
  {
   "cell_type": "code",
   "execution_count": null,
   "metadata": {},
   "outputs": [],
   "source": [
    "# 첫번째 주사위의 경우의 수를 반복문 생성\n",
    "for i in range(1, 7, 1):\n",
    "  for j in range(1, 7,1):\n",
    "  # 두 주사위의 합이 5이상인 경우\n",
    "    if i + j >= 5:\n",
    "     # 주사위를 출력\n",
    "      print(i,j)"
   ]
  },
  {
   "cell_type": "code",
   "execution_count": null,
   "metadata": {},
   "outputs": [],
   "source": [
    "# while문\n",
    "\n",
    "# 초기값을 생성\n",
    "i = 0\n",
    "# while 조건식\n",
    "while i < 10:\n",
    "  #반복 실행 할 코드\n",
    "  print(i)\n",
    "  #초기값을 증가\n",
    "  i += 1\n",
    "  # i = i + 1\n",
    "  "
   ]
  },
  {
   "cell_type": "code",
   "execution_count": 83,
   "metadata": {},
   "outputs": [
    {
     "name": "stdout",
     "output_type": "stream",
     "text": [
      "55\n"
     ]
    }
   ],
   "source": [
    "# while문을 이용하여 1부터 10까지의 합계\n",
    "\n",
    "result = 0\n",
    "i = 1\n",
    "\n",
    "while i <= 10:\n",
    "  # result에 i값을 누적합\n",
    "  result += i\n",
    "\n",
    "  i += 1\n",
    "\n",
    "print(result)"
   ]
  },
  {
   "cell_type": "code",
   "execution_count": 85,
   "metadata": {},
   "outputs": [
    {
     "name": "stdout",
     "output_type": "stream",
     "text": [
      "65\n"
     ]
    }
   ],
   "source": [
    "# while문을 이용하여 2부터 11까지의 합계\n",
    "\n",
    "result = 0\n",
    "i = 1\n",
    "\n",
    "while i <= 10:\n",
    "\n",
    "\n",
    "  i += 1\n",
    "\n",
    "  # result에 i값을 누적합\n",
    "  result += i\n",
    "\n",
    "print(result)"
   ]
  },
  {
   "cell_type": "code",
   "execution_count": 89,
   "metadata": {},
   "outputs": [
    {
     "name": "stdout",
     "output_type": "stream",
     "text": [
      "1\n",
      "2\n",
      "3\n",
      "4\n"
     ]
    }
   ],
   "source": [
    "# brake 구문\n",
    "# 반복문을 강제로 종료\n",
    "for i in range(1, 101, 1):\n",
    "  if i == 5 :\n",
    "    break\n",
    "  print(i)"
   ]
  },
  {
   "cell_type": "code",
   "execution_count": 97,
   "metadata": {},
   "outputs": [
    {
     "name": "stdout",
     "output_type": "stream",
     "text": [
      "3\n",
      "4\n",
      "5\n",
      "6\n",
      "7\n",
      "8\n",
      "9\n"
     ]
    }
   ],
   "source": [
    "# continue구문\n",
    "# 반복문으로 돌아간다.\n",
    "for i in range (1, 10, 1):\n",
    "  if i < 3:\n",
    "    continue\n",
    "  print(i)"
   ]
  },
  {
   "cell_type": "markdown",
   "metadata": {},
   "source": [
    "### 예제 문제\n",
    "- 반복문을 이용하여 1부터 100까지의 합계를 구하는데 합계가 1200이 넘어가는 순간의 i값과 합계를 출력하시오\n",
    "   - 합계라는 초기값을 지정\n",
    "   - 1부터 100까지 반복을 하는 반복문 생성\n",
    "   - 합계 변수의 반복문의 i값을 누적합\n",
    "   - 누적합이 1200보다 크다면 반복문을 종료\n",
    "   - i의 값과 합계의 값을 출력\n",
    "  "
   ]
  },
  {
   "cell_type": "code",
   "execution_count": 108,
   "metadata": {},
   "outputs": [
    {
     "name": "stdout",
     "output_type": "stream",
     "text": [
      "49 1225\n"
     ]
    }
   ],
   "source": [
    "# for문 버전\n",
    "\n",
    "# 합계라는 변수 초기값 설정\n",
    "result = 0\n",
    "\n",
    "for i in range (1, 101, 1):\n",
    "  # result에 i값을 누적합\n",
    "  result += i\n",
    "  #result = result + i\n",
    "\n",
    "  # result가 1200보다 크다면 ?\n",
    "  if result > 1200 :\n",
    "    # 반복문을 종료\n",
    "    break \n",
    "\n",
    "print(i,result)"
   ]
  },
  {
   "cell_type": "code",
   "execution_count": 110,
   "metadata": {},
   "outputs": [
    {
     "name": "stdout",
     "output_type": "stream",
     "text": [
      "1부터 100까지의 합계 중 합계의 값이 1200보다 큰 경우는 49까지의 합이고 합계의 값은 1225이다\n"
     ]
    }
   ],
   "source": [
    "# for문 버전\n",
    "\n",
    "# 합계라는 변수 초기값 설정\n",
    "result = 0\n",
    "\n",
    "for i in range (1, 101, 1):\n",
    "  # result에 i값을 누적합\n",
    "  result += i\n",
    "  #result = result + i\n",
    "\n",
    "  # result가 1200보다 크다면 ?\n",
    "  if result > 1200 :\n",
    "    print(f\"1부터 100까지의 합계 중 합계의 값이 1200보다 큰 경우는 {i}까지의 합이고 합계의 값은 {result}이다\")\n",
    "    # 반복문을 종료\n",
    "    break \n",
    "\n"
   ]
  },
  {
   "cell_type": "code",
   "execution_count": 112,
   "metadata": {},
   "outputs": [
    {
     "name": "stdout",
     "output_type": "stream",
     "text": [
      "49 1225\n"
     ]
    }
   ],
   "source": [
    "# while문 버전\n",
    "\n",
    "# 합계 초기 변수 생성\n",
    "result =  0\n",
    "\n",
    "# 반복문의 초기값 생성\n",
    "i = 1\n",
    "\n",
    "# while 조건식\n",
    "# while i <= 100:\n",
    "while i < 101 :\n",
    "\n",
    "  #합계에 i를 누적합\n",
    "  result += i\n",
    "  # result = result + i\n",
    "\n",
    "  if result > 1200 :\n",
    "    break\n",
    "\n",
    "  # 초기값을 증가\n",
    "  i += 1\n",
    "  # i = i + 1\n",
    "\n",
    "\n",
    "\n",
    "print(i,result)"
   ]
  },
  {
   "cell_type": "markdown",
   "metadata": {},
   "source": [
    "### 자료형 데이터\n",
    "1. 튜플\n",
    "    - 자료형 데이터에서 가장 기본적인 형태의 데이터\n",
    "    - ()로 묶어서 데이터 생성\n",
    "    - 각 원소들을 수정 & 삭제 불가능\n",
    "2. 리스트\n",
    "    - []로 묶어서 데이터 생성\n",
    "    - 리스트의 내장함수를 이용하여 각 원소들을 수정, 추가, 삭제가 가능\n",
    "3. 딕셔너리\n",
    "    - {}로 묶어서 데이터 생성\n",
    "    - key : value의 형태로 데이터가 생성\n",
    "    - 각 원소들을 수정, 삭제, 추가 가능"
   ]
  },
  {
   "cell_type": "code",
   "execution_count": null,
   "metadata": {},
   "outputs": [],
   "source": []
  }
 ],
 "metadata": {
  "kernelspec": {
   "display_name": "Python 3",
   "language": "python",
   "name": "python3"
  },
  "language_info": {
   "codemirror_mode": {
    "name": "ipython",
    "version": 3
   },
   "file_extension": ".py",
   "mimetype": "text/x-python",
   "name": "python",
   "nbconvert_exporter": "python",
   "pygments_lexer": "ipython3",
   "version": "3.11.5"
  },
  "orig_nbformat": 4
 },
 "nbformat": 4,
 "nbformat_minor": 2
}
